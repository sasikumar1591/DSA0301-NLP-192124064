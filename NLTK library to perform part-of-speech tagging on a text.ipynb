{
  "nbformat": 4,
  "nbformat_minor": 0,
  "metadata": {
    "colab": {
      "provenance": [],
      "authorship_tag": "ABX9TyProFpqFpfqZsyLpxYW7ujO",
      "include_colab_link": true
    },
    "kernelspec": {
      "name": "python3",
      "display_name": "Python 3"
    },
    "language_info": {
      "name": "python"
    }
  },
  "cells": [
    {
      "cell_type": "markdown",
      "metadata": {
        "id": "view-in-github",
        "colab_type": "text"
      },
      "source": [
        "<a href=\"https://colab.research.google.com/github/sasikumar1591/DSA0301-NLP-192124064/blob/main/NLTK%20library%20to%20perform%20part-of-speech%20tagging%20on%20a%20text.ipynb\" target=\"_parent\"><img src=\"https://colab.research.google.com/assets/colab-badge.svg\" alt=\"Open In Colab\"/></a>"
      ]
    },
    {
      "cell_type": "code",
      "execution_count": 1,
      "metadata": {
        "colab": {
          "base_uri": "https://localhost:8080/"
        },
        "id": "Z4cIz-HL8lwJ",
        "outputId": "214dbe96-8671-4588-85d1-49266aed09fa"
      },
      "outputs": [
        {
          "output_type": "stream",
          "name": "stderr",
          "text": [
            "[nltk_data] Downloading package punkt to /root/nltk_data...\n",
            "[nltk_data]   Unzipping tokenizers/punkt.zip.\n",
            "[nltk_data] Downloading package averaged_perceptron_tagger to\n",
            "[nltk_data]     /root/nltk_data...\n",
            "[nltk_data]   Unzipping taggers/averaged_perceptron_tagger.zip.\n"
          ]
        },
        {
          "output_type": "stream",
          "name": "stdout",
          "text": [
            "Original Text: NLTK is a powerful library for natural language processing.\n",
            "\n",
            "Part-of-Speech Tagging:\n",
            "NLTK: NNP\n",
            "is: VBZ\n",
            "a: DT\n",
            "powerful: JJ\n",
            "library: NN\n",
            "for: IN\n",
            "natural: JJ\n",
            "language: NN\n",
            "processing: NN\n",
            ".: .\n"
          ]
        }
      ],
      "source": [
        "import nltk\n",
        "from nltk import word_tokenize, pos_tag\n",
        "\n",
        "# Download NLTK data (you only need to do this once)\n",
        "nltk.download('punkt')\n",
        "nltk.download('averaged_perceptron_tagger')\n",
        "\n",
        "def pos_tagging(text):\n",
        "    # Tokenize the text into words\n",
        "    words = word_tokenize(text)\n",
        "\n",
        "    # Perform part-of-speech tagging\n",
        "    tagged_words = pos_tag(words)\n",
        "\n",
        "    return tagged_words\n",
        "\n",
        "if __name__ == \"__main__\":\n",
        "    # Example text\n",
        "    text = \"NLTK is a powerful library for natural language processing.\"\n",
        "\n",
        "    # Perform part-of-speech tagging\n",
        "    tagged_words = pos_tagging(text)\n",
        "\n",
        "    # Display the result\n",
        "    print(\"Original Text:\", text)\n",
        "    print(\"\\nPart-of-Speech Tagging:\")\n",
        "    for word, tag in tagged_words:\n",
        "        print(f\"{word}: {tag}\")\n",
        "\n"
      ]
    }
  ]
}