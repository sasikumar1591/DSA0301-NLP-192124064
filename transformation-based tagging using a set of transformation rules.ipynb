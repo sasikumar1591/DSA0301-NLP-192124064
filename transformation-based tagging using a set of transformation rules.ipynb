{
  "nbformat": 4,
  "nbformat_minor": 0,
  "metadata": {
    "colab": {
      "provenance": [],
      "authorship_tag": "ABX9TyO0C2+qaPLmX0kNYXWJ7Tvf",
      "include_colab_link": true
    },
    "kernelspec": {
      "name": "python3",
      "display_name": "Python 3"
    },
    "language_info": {
      "name": "python"
    }
  },
  "cells": [
    {
      "cell_type": "markdown",
      "metadata": {
        "id": "view-in-github",
        "colab_type": "text"
      },
      "source": [
        "<a href=\"https://colab.research.google.com/github/sasikumar1591/DSA0301-NLP-192124064/blob/main/transformation-based%20tagging%20using%20a%20set%20of%20transformation%20rules.ipynb\" target=\"_parent\"><img src=\"https://colab.research.google.com/assets/colab-badge.svg\" alt=\"Open In Colab\"/></a>"
      ]
    },
    {
      "cell_type": "code",
      "execution_count": 1,
      "metadata": {
        "colab": {
          "base_uri": "https://localhost:8080/"
        },
        "id": "omEwtDol_kpN",
        "outputId": "dffc4003-1a88-47fe-b3ef-1d0a45ca47a7"
      },
      "outputs": [
        {
          "output_type": "stream",
          "name": "stderr",
          "text": [
            "[nltk_data] Downloading package treebank to /root/nltk_data...\n",
            "[nltk_data]   Unzipping corpora/treebank.zip.\n",
            "[nltk_data] Downloading package punkt to /root/nltk_data...\n",
            "[nltk_data]   Unzipping tokenizers/punkt.zip.\n"
          ]
        },
        {
          "output_type": "stream",
          "name": "stdout",
          "text": [
            "Original Sentence: This is a simple example sentence.\n",
            "\n",
            "Transformation-based Tagging Result:\n",
            "This: DT\n",
            "is: VBZ\n",
            "a: DT\n",
            "simple: JJ\n",
            "example: NN\n",
            "sentence: NN\n",
            ".: .\n"
          ]
        }
      ],
      "source": [
        "import nltk\n",
        "from nltk.tag import brill, brill_trainer\n",
        "from nltk.tag import UnigramTagger\n",
        "from nltk.tag import DefaultTagger\n",
        "from nltk.tag import brill_trainer\n",
        "from nltk.corpus import treebank\n",
        "\n",
        "# Download NLTK data (you only need to do this once)\n",
        "nltk.download('treebank')\n",
        "nltk.download('punkt')\n",
        "\n",
        "def transform_based_tagging(train_data, transformation_rules, test_sentence):\n",
        "    # Create a trainer with the BrillTagger\n",
        "    baseline_tagger = UnigramTagger(train_data, backoff=DefaultTagger('NN'))\n",
        "    trainer = brill_trainer.BrillTaggerTrainer(baseline_tagger, transformation_rules)\n",
        "\n",
        "    # Train the BrillTagger\n",
        "    brill_tagger = trainer.train(train_data, max_rules=10)\n",
        "\n",
        "    # Tag the test sentence\n",
        "    tagged_sentence = brill_tagger.tag(nltk.word_tokenize(test_sentence))\n",
        "\n",
        "    return tagged_sentence\n",
        "\n",
        "if __name__ == \"__main__\":\n",
        "    # Load the Treebank corpus for training\n",
        "    train_data = treebank.tagged_sents()[:3000]\n",
        "\n",
        "    # Define transformation rules\n",
        "    transformation_rules = brill.brill24()\n",
        "\n",
        "    # Test sentence\n",
        "    test_sentence = \"This is a simple example sentence.\"\n",
        "\n",
        "    # Perform transformation-based tagging\n",
        "    tagged_sentence = transform_based_tagging(train_data, transformation_rules, test_sentence)\n",
        "\n",
        "    # Display the result\n",
        "    print(\"Original Sentence:\", test_sentence)\n",
        "    print(\"\\nTransformation-based Tagging Result:\")\n",
        "    for word, tag in tagged_sentence:\n",
        "        print(f\"{word}: {tag}\")\n",
        "\n"
      ]
    }
  ]
}