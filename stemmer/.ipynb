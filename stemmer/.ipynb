{
  "nbformat": 4,
  "nbformat_minor": 0,
  "metadata": {
    "colab": {
      "provenance": [],
      "authorship_tag": "ABX9TyPtHzk3UJHjtA/ON5eccJkQ",
      "include_colab_link": true
    },
    "kernelspec": {
      "name": "python3",
      "display_name": "Python 3"
    },
    "language_info": {
      "name": "python"
    }
  },
  "cells": [
    {
      "cell_type": "markdown",
      "metadata": {
        "id": "view-in-github",
        "colab_type": "text"
      },
      "source": [
        "<a href=\"https://colab.research.google.com/github/sasikumar1591/DSA0301-NLP-192124064/blob/main/stemmer/.ipynb\" target=\"_parent\"><img src=\"https://colab.research.google.com/assets/colab-badge.svg\" alt=\"Open In Colab\"/></a>"
      ]
    },
    {
      "cell_type": "code",
      "execution_count": 1,
      "metadata": {
        "colab": {
          "base_uri": "https://localhost:8080/"
        },
        "id": "ab8iaL_G1B1g",
        "outputId": "f484f06e-d945-4c78-b71f-4e4884d032b9"
      },
      "outputs": [
        {
          "output_type": "stream",
          "name": "stderr",
          "text": [
            "[nltk_data] Downloading package punkt to /root/nltk_data...\n",
            "[nltk_data]   Unzipping tokenizers/punkt.zip.\n"
          ]
        },
        {
          "output_type": "stream",
          "name": "stdout",
          "text": [
            "Original: I am running in the park\n",
            "Stemmed: i am run in the park\n",
            "\n",
            "Original: The running shoes are on sale\n",
            "Stemmed: the run shoe are on sale\n",
            "\n",
            "Original: She ran to catch the bus\n",
            "Stemmed: she ran to catch the bu\n",
            "\n"
          ]
        }
      ],
      "source": [
        "import nltk\n",
        "from nltk.stem import PorterStemmer\n",
        "nltk.download(\"punkt\")  # Download the required data\n",
        "\n",
        "# Create a Porter Stemmer instance\n",
        "stemmer = PorterStemmer()\n",
        "\n",
        "# Example sentences for stemming\n",
        "sentences = [\n",
        "    \"I am running in the park\",\n",
        "    \"The running shoes are on sale\",\n",
        "    \"She ran to catch the bus\"\n",
        "]\n",
        "\n",
        "# Tokenize each sentence and apply stemming\n",
        "for sentence in sentences:\n",
        "    words = nltk.word_tokenize(sentence)\n",
        "    stemmed_words = [stemmer.stem(word) for word in words]\n",
        "    stemmed_sentence = \" \".join(stemmed_words)\n",
        "    print(f\"Original: {sentence}\")\n",
        "    print(f\"Stemmed: {stemmed_sentence}\\n\")"
      ]
    }
  ]
}