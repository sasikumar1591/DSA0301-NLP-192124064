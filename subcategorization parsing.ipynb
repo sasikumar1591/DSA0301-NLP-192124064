{
  "nbformat": 4,
  "nbformat_minor": 0,
  "metadata": {
    "colab": {
      "provenance": [],
      "authorship_tag": "ABX9TyOaTDPbjvSQiL3OPzb96i5h",
      "include_colab_link": true
    },
    "kernelspec": {
      "name": "python3",
      "display_name": "Python 3"
    },
    "language_info": {
      "name": "python"
    }
  },
  "cells": [
    {
      "cell_type": "markdown",
      "metadata": {
        "id": "view-in-github",
        "colab_type": "text"
      },
      "source": [
        "<a href=\"https://colab.research.google.com/github/sasikumar1591/DSA0301-NLP-192124064/blob/main/subcategorization%20parsing.ipynb\" target=\"_parent\"><img src=\"https://colab.research.google.com/assets/colab-badge.svg\" alt=\"Open In Colab\"/></a>"
      ]
    },
    {
      "cell_type": "code",
      "execution_count": null,
      "metadata": {
        "id": "r1Vz2aQw7P7H"
      },
      "outputs": [],
      "source": [
        "import spacy\n",
        "\n",
        "nlp = spacy.load(\"en_core_web_sm\")\n",
        "\n",
        "\n",
        "sent = \"The cat on the rook purring softly which belongs to my neighbour caught a mouse\"\n",
        "doc = nlp(sent)\n",
        "for token in doc:\n",
        "  print(f\"Token : {token.text}\\nLemma : {token.lemma_}\\npos : {token.pos}\\n\")\n",
        "  prepos_phrases = [chunk.text for chunk in doc.noun_chunks if \"on\" in [token.text for token in chunk]]\n",
        "print(f\"Preposition Phrases : {prepos_phrases}\")\n",
        "ger_phrases = [chunk.text for chunk in doc.noun_chunks if \"ing\" in [token.text[-3:] for token in chunk]]\n",
        "print(f\"Gerundive Phrases : {ger_phrases}\")\n",
        "inf_clause = [token.text for token in doc if token.dep_ == \"xcomp\"]\n",
        "print(f\"Infinite Clauses : {inf_clause}\")\n",
        "rel_clause = [token.text for token in doc if token.dep_ == \"relcel\"]\n",
        "print(f\"Relative Clauses : {rel_clause}\")"
      ]
    }
  ]
}